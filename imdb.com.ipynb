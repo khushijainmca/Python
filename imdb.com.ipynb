{
 "cells": [
  {
   "cell_type": "code",
   "execution_count": 13,
   "metadata": {},
   "outputs": [
    {
     "name": "stdout",
     "output_type": "stream",
     "text": [
      "Movie Name: titanic\n"
     ]
    }
   ],
   "source": [
    "from bs4 import BeautifulSoup\n",
    "import requests\n",
    "#import webbrowser\n",
    "import re\n",
    "\n",
    "\n",
    "\n",
    "def main():\n",
    "  movie = str(input('Movie Name: '))\n",
    "  movie_search = '+'.join(movie.split())\n",
    "\n",
    "  base_url = 'https://www.imdb.com/find?q='\n",
    "  url = base_url+movie_search+'&s=all'\n",
    "\n",
    "  #title_search = re.compile('/title/ttd+')\n",
    "\n",
    "  requests.get(url)\n",
    "  #webbrowser.open(url)  \n",
    "\n",
    "\n",
    "  \n",
    "\n",
    "\n",
    "\n",
    " \n",
    "  \n",
    "\n",
    " \n",
    " \n",
    "\n",
    "if __name__ == '__main__':\n",
    "    main()"
   ]
  },
  {
   "cell_type": "code",
   "execution_count": null,
   "metadata": {},
   "outputs": [],
   "source": []
  },
  {
   "cell_type": "code",
   "execution_count": null,
   "metadata": {},
   "outputs": [],
   "source": []
  }
 ],
 "metadata": {
  "kernelspec": {
   "display_name": "Python 3",
   "language": "python",
   "name": "python3"
  },
  "language_info": {
   "codemirror_mode": {
    "name": "ipython",
    "version": 3
   },
   "file_extension": ".py",
   "mimetype": "text/x-python",
   "name": "python",
   "nbconvert_exporter": "python",
   "pygments_lexer": "ipython3",
   "version": "3.7.3"
  }
 },
 "nbformat": 4,
 "nbformat_minor": 2
}
